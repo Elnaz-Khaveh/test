{
 "cells": [
  {
   "cell_type": "code",
   "execution_count": 1,
   "id": "1975a410",
   "metadata": {},
   "outputs": [],
   "source": [
    "import pandas as pd\n",
    "df_91_20=pd.read_csv('https://data.public.lu/fr/datasets/r/850ca2c2-88c5-4518-bf57-3fec2008821d',delimiter=\";\", encoding = \"ISO-8859-1\")\n",
    "df_81_10=pd.read_csv('https://data.public.lu/fr/datasets/r/4f4c8a32-84bf-4098-95eb-696e7e4ba3ec',delimiter=\";\", encoding = \"ISO-8859-1\")"
   ]
  },
  {
   "cell_type": "code",
   "execution_count": 2,
   "id": "76951a00",
   "metadata": {},
   "outputs": [
    {
     "data": {
      "text/html": [
       "<div>\n",
       "<style scoped>\n",
       "    .dataframe tbody tr th:only-of-type {\n",
       "        vertical-align: middle;\n",
       "    }\n",
       "\n",
       "    .dataframe tbody tr th {\n",
       "        vertical-align: top;\n",
       "    }\n",
       "\n",
       "    .dataframe thead th {\n",
       "        text-align: right;\n",
       "    }\n",
       "</style>\n",
       "<table border=\"1\" class=\"dataframe\">\n",
       "  <thead>\n",
       "    <tr style=\"text-align: right;\">\n",
       "      <th></th>\n",
       "      <th>MONTH</th>\n",
       "      <th>JAN</th>\n",
       "      <th>FEB</th>\n",
       "      <th>MAR</th>\n",
       "      <th>APR</th>\n",
       "      <th>MAY</th>\n",
       "      <th>JUN</th>\n",
       "      <th>JUL</th>\n",
       "      <th>AUG</th>\n",
       "      <th>SEP</th>\n",
       "      <th>OCT</th>\n",
       "      <th>NOV</th>\n",
       "      <th>DEC</th>\n",
       "    </tr>\n",
       "  </thead>\n",
       "  <tbody>\n",
       "    <tr>\n",
       "      <th>0</th>\n",
       "      <td>NM_T (°C)</td>\n",
       "      <td>1.4</td>\n",
       "      <td>2.2</td>\n",
       "      <td>5.7</td>\n",
       "      <td>9.6</td>\n",
       "      <td>13.5</td>\n",
       "      <td>16.7</td>\n",
       "      <td>18.7</td>\n",
       "      <td>18.4</td>\n",
       "      <td>14.3</td>\n",
       "      <td>9.9</td>\n",
       "      <td>5.2</td>\n",
       "      <td>2.3</td>\n",
       "    </tr>\n",
       "    <tr>\n",
       "      <th>1</th>\n",
       "      <td>NM_XT (°C)</td>\n",
       "      <td>3.8</td>\n",
       "      <td>5.2</td>\n",
       "      <td>9.8</td>\n",
       "      <td>14.4</td>\n",
       "      <td>18.4</td>\n",
       "      <td>21.7</td>\n",
       "      <td>23.9</td>\n",
       "      <td>23.5</td>\n",
       "      <td>19.0</td>\n",
       "      <td>13.5</td>\n",
       "      <td>7.7</td>\n",
       "      <td>4.5</td>\n",
       "    </tr>\n",
       "    <tr>\n",
       "      <th>2</th>\n",
       "      <td>NM_NT (°C)</td>\n",
       "      <td>-1.0</td>\n",
       "      <td>-0.7</td>\n",
       "      <td>2.0</td>\n",
       "      <td>5.1</td>\n",
       "      <td>8.7</td>\n",
       "      <td>11.8</td>\n",
       "      <td>13.8</td>\n",
       "      <td>13.6</td>\n",
       "      <td>10.3</td>\n",
       "      <td>6.6</td>\n",
       "      <td>2.8</td>\n",
       "      <td>0.0</td>\n",
       "    </tr>\n",
       "    <tr>\n",
       "      <th>3</th>\n",
       "      <td>NM_RR06_06 (mm)</td>\n",
       "      <td>71.5</td>\n",
       "      <td>59.5</td>\n",
       "      <td>56.6</td>\n",
       "      <td>49.4</td>\n",
       "      <td>73.3</td>\n",
       "      <td>73.0</td>\n",
       "      <td>72.1</td>\n",
       "      <td>71.9</td>\n",
       "      <td>66.6</td>\n",
       "      <td>76.2</td>\n",
       "      <td>71.7</td>\n",
       "      <td>89.5</td>\n",
       "    </tr>\n",
       "    <tr>\n",
       "      <th>4</th>\n",
       "      <td>NM_INS (hours)</td>\n",
       "      <td>52.0</td>\n",
       "      <td>79.5</td>\n",
       "      <td>137.1</td>\n",
       "      <td>197.5</td>\n",
       "      <td>226.3</td>\n",
       "      <td>241.2</td>\n",
       "      <td>257.6</td>\n",
       "      <td>237.1</td>\n",
       "      <td>174.9</td>\n",
       "      <td>106.7</td>\n",
       "      <td>51.1</td>\n",
       "      <td>41.9</td>\n",
       "    </tr>\n",
       "  </tbody>\n",
       "</table>\n",
       "</div>"
      ],
      "text/plain": [
       "             MONTH   JAN   FEB    MAR    APR    MAY    JUN    JUL    AUG  \\\n",
       "0        NM_T (°C)   1.4   2.2    5.7    9.6   13.5   16.7   18.7   18.4   \n",
       "1       NM_XT (°C)   3.8   5.2    9.8   14.4   18.4   21.7   23.9   23.5   \n",
       "2       NM_NT (°C)  -1.0  -0.7    2.0    5.1    8.7   11.8   13.8   13.6   \n",
       "3  NM_RR06_06 (mm)  71.5  59.5   56.6   49.4   73.3   73.0   72.1   71.9   \n",
       "4   NM_INS (hours)  52.0  79.5  137.1  197.5  226.3  241.2  257.6  237.1   \n",
       "\n",
       "     SEP    OCT   NOV   DEC  \n",
       "0   14.3    9.9   5.2   2.3  \n",
       "1   19.0   13.5   7.7   4.5  \n",
       "2   10.3    6.6   2.8   0.0  \n",
       "3   66.6   76.2  71.7  89.5  \n",
       "4  174.9  106.7  51.1  41.9  "
      ]
     },
     "execution_count": 2,
     "metadata": {},
     "output_type": "execute_result"
    }
   ],
   "source": [
    "df_91_20.head()"
   ]
  },
  {
   "cell_type": "code",
   "execution_count": 3,
   "id": "3c422cc9",
   "metadata": {},
   "outputs": [
    {
     "data": {
      "text/html": [
       "<div>\n",
       "<style scoped>\n",
       "    .dataframe tbody tr th:only-of-type {\n",
       "        vertical-align: middle;\n",
       "    }\n",
       "\n",
       "    .dataframe tbody tr th {\n",
       "        vertical-align: top;\n",
       "    }\n",
       "\n",
       "    .dataframe thead th {\n",
       "        text-align: right;\n",
       "    }\n",
       "</style>\n",
       "<table border=\"1\" class=\"dataframe\">\n",
       "  <thead>\n",
       "    <tr style=\"text-align: right;\">\n",
       "      <th></th>\n",
       "      <th>MONTH</th>\n",
       "      <th>JAN</th>\n",
       "      <th>FEB</th>\n",
       "      <th>MAR</th>\n",
       "      <th>APR</th>\n",
       "      <th>MAY</th>\n",
       "      <th>JUN</th>\n",
       "      <th>JUL</th>\n",
       "      <th>AUG</th>\n",
       "      <th>SEP</th>\n",
       "      <th>OCT</th>\n",
       "      <th>NOV</th>\n",
       "      <th>DEC</th>\n",
       "    </tr>\n",
       "  </thead>\n",
       "  <tbody>\n",
       "    <tr>\n",
       "      <th>0</th>\n",
       "      <td>NM_T (°C)</td>\n",
       "      <td>0.8</td>\n",
       "      <td>1.6</td>\n",
       "      <td>5.2</td>\n",
       "      <td>8.7</td>\n",
       "      <td>13.0</td>\n",
       "      <td>15.9</td>\n",
       "      <td>18.2</td>\n",
       "      <td>17.7</td>\n",
       "      <td>13.9</td>\n",
       "      <td>9.5</td>\n",
       "      <td>4.7</td>\n",
       "      <td>1.8</td>\n",
       "    </tr>\n",
       "    <tr>\n",
       "      <th>1</th>\n",
       "      <td>NM_XT (°C)</td>\n",
       "      <td>3.1</td>\n",
       "      <td>4.7</td>\n",
       "      <td>9.1</td>\n",
       "      <td>13.3</td>\n",
       "      <td>17.8</td>\n",
       "      <td>20.7</td>\n",
       "      <td>23.3</td>\n",
       "      <td>22.8</td>\n",
       "      <td>18.4</td>\n",
       "      <td>13.1</td>\n",
       "      <td>7.3</td>\n",
       "      <td>3.9</td>\n",
       "    </tr>\n",
       "    <tr>\n",
       "      <th>2</th>\n",
       "      <td>NM_NT (°C)</td>\n",
       "      <td>-1.6</td>\n",
       "      <td>-1.3</td>\n",
       "      <td>1.6</td>\n",
       "      <td>4.4</td>\n",
       "      <td>8.4</td>\n",
       "      <td>11.1</td>\n",
       "      <td>13.3</td>\n",
       "      <td>13.0</td>\n",
       "      <td>10.0</td>\n",
       "      <td>6.3</td>\n",
       "      <td>2.2</td>\n",
       "      <td>-0.5</td>\n",
       "    </tr>\n",
       "    <tr>\n",
       "      <th>3</th>\n",
       "      <td>NM_RR06_06 (mm)</td>\n",
       "      <td>76.6</td>\n",
       "      <td>62.5</td>\n",
       "      <td>69.1</td>\n",
       "      <td>58.2</td>\n",
       "      <td>78.5</td>\n",
       "      <td>79.9</td>\n",
       "      <td>71.0</td>\n",
       "      <td>75.4</td>\n",
       "      <td>76.3</td>\n",
       "      <td>86.8</td>\n",
       "      <td>76.0</td>\n",
       "      <td>86.7</td>\n",
       "    </tr>\n",
       "    <tr>\n",
       "      <th>4</th>\n",
       "      <td>NM_INS (hours)</td>\n",
       "      <td>50.3</td>\n",
       "      <td>83.6</td>\n",
       "      <td>125.1</td>\n",
       "      <td>181.6</td>\n",
       "      <td>213.4</td>\n",
       "      <td>227.0</td>\n",
       "      <td>250.3</td>\n",
       "      <td>230.8</td>\n",
       "      <td>161.9</td>\n",
       "      <td>105.9</td>\n",
       "      <td>54.2</td>\n",
       "      <td>41.0</td>\n",
       "    </tr>\n",
       "  </tbody>\n",
       "</table>\n",
       "</div>"
      ],
      "text/plain": [
       "             MONTH   JAN   FEB    MAR    APR    MAY    JUN    JUL    AUG  \\\n",
       "0        NM_T (°C)   0.8   1.6    5.2    8.7   13.0   15.9   18.2   17.7   \n",
       "1       NM_XT (°C)   3.1   4.7    9.1   13.3   17.8   20.7   23.3   22.8   \n",
       "2       NM_NT (°C)  -1.6  -1.3    1.6    4.4    8.4   11.1   13.3   13.0   \n",
       "3  NM_RR06_06 (mm)  76.6  62.5   69.1   58.2   78.5   79.9   71.0   75.4   \n",
       "4   NM_INS (hours)  50.3  83.6  125.1  181.6  213.4  227.0  250.3  230.8   \n",
       "\n",
       "     SEP    OCT   NOV   DEC  \n",
       "0   13.9    9.5   4.7   1.8  \n",
       "1   18.4   13.1   7.3   3.9  \n",
       "2   10.0    6.3   2.2  -0.5  \n",
       "3   76.3   86.8  76.0  86.7  \n",
       "4  161.9  105.9  54.2  41.0  "
      ]
     },
     "execution_count": 3,
     "metadata": {},
     "output_type": "execute_result"
    }
   ],
   "source": [
    "df_81_10.head()"
   ]
  },
  {
   "cell_type": "code",
   "execution_count": 4,
   "id": "c364a530",
   "metadata": {},
   "outputs": [
    {
     "name": "stdout",
     "output_type": "stream",
     "text": [
      "\n",
      "\n"
     ]
    }
   ],
   "source": [
    "\n",
    "df_91_20.rename(columns={'MONTH': 'Parameters' }, inplace=True)\n",
    "#print(df_91_20)\n",
    "\n",
    "print(\"\\n\")\n",
    "\n",
    "df_81_10.rename(columns={'MONTH': 'Parameters' }, inplace=True)\n",
    "#print(df_81_10)\n",
    "\n",
    "df_91_20=df_91_20.set_index('Parameters')\n",
    "df_81_10=df_81_10.set_index('Parameters')\n"
   ]
  },
  {
   "cell_type": "code",
   "execution_count": 54,
   "id": "6e90538d",
   "metadata": {},
   "outputs": [
    {
     "name": "stdout",
     "output_type": "stream",
     "text": [
      "These are the data types before transformation: JAN    float64\n",
      "FEB    float64\n",
      "MAR    float64\n",
      "APR    float64\n",
      "MAY    float64\n",
      "JUN    float64\n",
      "JUL    float64\n",
      "AUG    float64\n",
      "SEP    float64\n",
      "OCT    float64\n",
      "NOV    float64\n",
      "DEC    float64\n",
      "dtype: object\n",
      "Datatypes before JAN    float64\n",
      "FEB    float64\n",
      "MAR    float64\n",
      "APR    float64\n",
      "MAY    float64\n",
      "JUN    float64\n",
      "JUL    float64\n",
      "AUG    float64\n",
      "SEP    float64\n",
      "OCT    float64\n",
      "NOV    float64\n",
      "DEC    float64\n",
      "dtype: object\n",
      "JAN    float64\n",
      "FEB    float64\n",
      "MAR    float64\n",
      "APR    float64\n",
      "MAY    float64\n",
      "JUN    float64\n",
      "JUL    float64\n",
      "AUG    float64\n",
      "SEP    float64\n",
      "OCT    float64\n",
      "NOV    float64\n",
      "DEC    float64\n",
      "dtype: object\n",
      "JAN    float64\n",
      "FEB    float64\n",
      "MAR    float64\n",
      "APR    float64\n",
      "MAY    float64\n",
      "JUN    float64\n",
      "JUL    float64\n",
      "AUG    float64\n",
      "SEP    float64\n",
      "OCT    float64\n",
      "NOV    float64\n",
      "DEC    float64\n",
      "dtype: object\n"
     ]
    }
   ],
   "source": [
    "print('These are the data types before transformation:', df_91_20.dtypes)\n",
    "print('Datatypes before', df_81_10.dtypes)\n",
    "\n",
    "df_91_20.transform(pd.to_numeric, errors='coerce').fillna(0)\n",
    "\n",
    "for c in df_81_10.columns:\n",
    "    if df_81_10[c].dtype=='object':\n",
    "        df_81_10[c] = df_81_10[c].str.extract('(\\d+)', expand=False)\n",
    "df_81_10 = df_81_10.astype('float64')\n",
    "\n",
    "print(df_91_20.dtypes)\n",
    "print(df_81_10.dtypes)"
   ]
  },
  {
   "cell_type": "code",
   "execution_count": 6,
   "id": "48d3c316",
   "metadata": {},
   "outputs": [],
   "source": [
    "from matplotlib import pyplot as plt\n",
    "import matplotlib.pyplot as plt "
   ]
  },
  {
   "cell_type": "code",
   "execution_count": 7,
   "id": "fed548e8",
   "metadata": {},
   "outputs": [
    {
     "data": {
      "text/plain": [
       "<matplotlib.legend.Legend at 0x153e0cfe430>"
      ]
     },
     "execution_count": 7,
     "metadata": {},
     "output_type": "execute_result"
    },
    {
     "data": {
      "image/png": "[encoded data removed]",
      "text/plain": [
       "<Figure size 432x288 with 1 Axes>"
      ]
     },
     "metadata": {
      "needs_background": "light"
     },
     "output_type": "display_data"
    }
   ],
   "source": [
    "ax = df_91_20.loc['NM_T (°C)'].plot(color='red')\n",
    "ax = df_91_20.loc['NM_XT (°C)'].plot(color='green')\n",
    "ax = df_91_20.loc['NM_NT (°C)'].plot(color='yellow') \n",
    "ax.legend([\"NM_T (°C)\", \"NM_XT (°C)\", \"NM_NT (°C)\"])"
   ]
  },
  {
   "cell_type": "code",
   "execution_count": 8,
   "id": "3ffa4953",
   "metadata": {},
   "outputs": [
    {
     "data": {
      "text/plain": [
       "<AxesSubplot:>"
      ]
     },
     "execution_count": 8,
     "metadata": {},
     "output_type": "execute_result"
    },
    {
     "data": {
      "image/png": "[encoded data removed]",
      "text/plain": [
       "<Figure size 432x288 with 1 Axes>"
      ]
     },
     "metadata": {
      "needs_background": "light"
     },
     "output_type": "display_data"
    }
   ],
   "source": [
    "df_91_20.loc['NM_U (%)'].plot(kind='bar')"
   ]
  },
  {
   "cell_type": "code",
   "execution_count": 9,
   "id": "85e88010",
   "metadata": {},
   "outputs": [
    {
     "data": {
      "text/plain": [
       "<matplotlib.legend.Legend at 0x153e1552610>"
      ]
     },
     "execution_count": 9,
     "metadata": {},
     "output_type": "execute_result"
    },
    {
     "data": {
      "image/png": "[encoded data removed]",
      "text/plain": [
       "<Figure size 432x288 with 1 Axes>"
      ]
     },
     "metadata": {
      "needs_background": "light"
     },
     "output_type": "display_data"
    }
   ],
   "source": [
    "ax = df_81_10.loc['NM_T (°C)'].plot(color='red')\n",
    "ax = df_81_10.loc['NM_XT (°C)'].plot(color='green')\n",
    "ax = df_81_10.loc['NM_NT (°C)'].plot(color='yellow') \n",
    "ax.legend([\"NM_T (°C)\", \"NM_XT (°C)\", \"NM_NT (°C)\"])"
   ]
  },
  {
   "cell_type": "code",
   "execution_count": 10,
   "id": "1b29e79b",
   "metadata": {},
   "outputs": [
    {
     "data": {
      "text/plain": [
       "<AxesSubplot:>"
      ]
     },
     "execution_count": 10,
     "metadata": {},
     "output_type": "execute_result"
    },
    {
     "data": {
      "image/png": "[encoded data removed]",
      "text/plain": [
       "<Figure size 432x288 with 1 Axes>"
      ]
     },
     "metadata": {
      "needs_background": "light"
     },
     "output_type": "display_data"
    }
   ],
   "source": [
    "df_81_10.loc['NM_U (%)'].plot(kind='bar')"
   ]
  },
  {
   "cell_type": "code",
   "execution_count": 11,
   "id": "bb9428f3",
   "metadata": {},
   "outputs": [
    {
     "data": {
      "text/html": [
       "<div>\n",
       "<style scoped>\n",
       "    .dataframe tbody tr th:only-of-type {\n",
       "        vertical-align: middle;\n",
       "    }\n",
       "\n",
       "    .dataframe tbody tr th {\n",
       "        vertical-align: top;\n",
       "    }\n",
       "\n",
       "    .dataframe thead th {\n",
       "        text-align: right;\n",
       "    }\n",
       "</style>\n",
       "<table border=\"1\" class=\"dataframe\">\n",
       "  <thead>\n",
       "    <tr style=\"text-align: right;\">\n",
       "      <th></th>\n",
       "      <th>Q1</th>\n",
       "      <th>Q2</th>\n",
       "      <th>Q3</th>\n",
       "      <th>Q4</th>\n",
       "    </tr>\n",
       "    <tr>\n",
       "      <th>Parameters</th>\n",
       "      <th></th>\n",
       "      <th></th>\n",
       "      <th></th>\n",
       "      <th></th>\n",
       "    </tr>\n",
       "  </thead>\n",
       "  <tbody>\n",
       "    <tr>\n",
       "      <th>NM_T (°C)</th>\n",
       "      <td>1.7</td>\n",
       "      <td>2.2</td>\n",
       "      <td>1.600000e+00</td>\n",
       "      <td>2.600000e+00</td>\n",
       "    </tr>\n",
       "    <tr>\n",
       "      <th>NM_XT (°C)</th>\n",
       "      <td>1.9</td>\n",
       "      <td>2.7</td>\n",
       "      <td>1.900000e+00</td>\n",
       "      <td>1.800000e+00</td>\n",
       "    </tr>\n",
       "    <tr>\n",
       "      <th>NM_NT (°C)</th>\n",
       "      <td>1.6</td>\n",
       "      <td>1.7</td>\n",
       "      <td>1.400000e+00</td>\n",
       "      <td>1.900000e+00</td>\n",
       "    </tr>\n",
       "    <tr>\n",
       "      <th>NM_RR06_06 (mm)</th>\n",
       "      <td>-20.6</td>\n",
       "      <td>-20.9</td>\n",
       "      <td>-1.210000e+01</td>\n",
       "      <td>-1.130000e+01</td>\n",
       "    </tr>\n",
       "    <tr>\n",
       "      <th>NM_INS (hours)</th>\n",
       "      <td>9.6</td>\n",
       "      <td>43.0</td>\n",
       "      <td>2.660000e+01</td>\n",
       "      <td>-3.000000e-01</td>\n",
       "    </tr>\n",
       "    <tr>\n",
       "      <th>NM_U (%)</th>\n",
       "      <td>2.0</td>\n",
       "      <td>-3.0</td>\n",
       "      <td>-2.000000e+00</td>\n",
       "      <td>4.000000e+00</td>\n",
       "    </tr>\n",
       "    <tr>\n",
       "      <th>NM_QFF (hPa)</th>\n",
       "      <td>0.0</td>\n",
       "      <td>0.0</td>\n",
       "      <td>0.000000e+00</td>\n",
       "      <td>9.000000e-01</td>\n",
       "    </tr>\n",
       "    <tr>\n",
       "      <th>NM_ODRR01 (days)</th>\n",
       "      <td>0.1</td>\n",
       "      <td>-2.0</td>\n",
       "      <td>-1.776357e-15</td>\n",
       "      <td>1.900000e+00</td>\n",
       "    </tr>\n",
       "    <tr>\n",
       "      <th>NM_OFOG (days)</th>\n",
       "      <td>-2.1</td>\n",
       "      <td>-3.0</td>\n",
       "      <td>-1.900000e+00</td>\n",
       "      <td>-2.300000e+00</td>\n",
       "    </tr>\n",
       "    <tr>\n",
       "      <th>NM_OCASETHSTORM (days)</th>\n",
       "      <td>-0.6</td>\n",
       "      <td>-1.7</td>\n",
       "      <td>-1.300000e+00</td>\n",
       "      <td>2.775558e-17</td>\n",
       "    </tr>\n",
       "    <tr>\n",
       "      <th>NM_OGLAZE (days)</th>\n",
       "      <td>-0.5</td>\n",
       "      <td>0.0</td>\n",
       "      <td>0.000000e+00</td>\n",
       "      <td>-3.000000e-01</td>\n",
       "    </tr>\n",
       "    <tr>\n",
       "      <th>NM_OSNOW (days)</th>\n",
       "      <td>-2.6</td>\n",
       "      <td>-0.6</td>\n",
       "      <td>0.000000e+00</td>\n",
       "      <td>-1.000000e-01</td>\n",
       "    </tr>\n",
       "    <tr>\n",
       "      <th>NM_OGROUNDSNOW (days)</th>\n",
       "      <td>-2.9</td>\n",
       "      <td>-0.4</td>\n",
       "      <td>0.000000e+00</td>\n",
       "      <td>-8.000000e-01</td>\n",
       "    </tr>\n",
       "    <tr>\n",
       "      <th>NM_ODXT25 (days)</th>\n",
       "      <td>0.0</td>\n",
       "      <td>2.2</td>\n",
       "      <td>3.200000e+00</td>\n",
       "      <td>1.000000e-01</td>\n",
       "    </tr>\n",
       "    <tr>\n",
       "      <th>NM_ODXT30 (days)</th>\n",
       "      <td>0.0</td>\n",
       "      <td>0.9</td>\n",
       "      <td>2.200000e+00</td>\n",
       "      <td>0.000000e+00</td>\n",
       "    </tr>\n",
       "    <tr>\n",
       "      <th>NM_ODNT0 (days)</th>\n",
       "      <td>-4.7</td>\n",
       "      <td>-0.7</td>\n",
       "      <td>0.000000e+00</td>\n",
       "      <td>-3.200000e+00</td>\n",
       "    </tr>\n",
       "    <tr>\n",
       "      <th>NM_ODXT0 (days)</th>\n",
       "      <td>-1.9</td>\n",
       "      <td>0.0</td>\n",
       "      <td>0.000000e+00</td>\n",
       "      <td>-1.500000e+00</td>\n",
       "    </tr>\n",
       "  </tbody>\n",
       "</table>\n",
       "</div>"
      ],
      "text/plain": [
       "                          Q1    Q2            Q3            Q4\n",
       "Parameters                                                    \n",
       "NM_T (°C)                1.7   2.2  1.600000e+00  2.600000e+00\n",
       "NM_XT (°C)               1.9   2.7  1.900000e+00  1.800000e+00\n",
       "NM_NT (°C)               1.6   1.7  1.400000e+00  1.900000e+00\n",
       "NM_RR06_06 (mm)        -20.6 -20.9 -1.210000e+01 -1.130000e+01\n",
       "NM_INS (hours)           9.6  43.0  2.660000e+01 -3.000000e-01\n",
       "NM_U (%)                 2.0  -3.0 -2.000000e+00  4.000000e+00\n",
       "NM_QFF (hPa)             0.0   0.0  0.000000e+00  9.000000e-01\n",
       "NM_ODRR01 (days)         0.1  -2.0 -1.776357e-15  1.900000e+00\n",
       "NM_OFOG (days)          -2.1  -3.0 -1.900000e+00 -2.300000e+00\n",
       "NM_OCASETHSTORM (days)  -0.6  -1.7 -1.300000e+00  2.775558e-17\n",
       "NM_OGLAZE (days)        -0.5   0.0  0.000000e+00 -3.000000e-01\n",
       "NM_OSNOW (days)         -2.6  -0.6  0.000000e+00 -1.000000e-01\n",
       "NM_OGROUNDSNOW (days)   -2.9  -0.4  0.000000e+00 -8.000000e-01\n",
       "NM_ODXT25 (days)         0.0   2.2  3.200000e+00  1.000000e-01\n",
       "NM_ODXT30 (days)         0.0   0.9  2.200000e+00  0.000000e+00\n",
       "NM_ODNT0 (days)         -4.7  -0.7  0.000000e+00 -3.200000e+00\n",
       "NM_ODXT0 (days)         -1.9   0.0  0.000000e+00 -1.500000e+00"
      ]
     },
     "execution_count": 11,
     "metadata": {},
     "output_type": "execute_result"
    }
   ],
   "source": [
    "df_diff = df_91_20 - df_81_10\n",
    "df_diff[\"Q1\"] = df_diff['JAN']+df_diff['FEB']+df_diff['MAR']\n",
    "df_diff[\"Q2\"] = df_diff['APR']+df_diff['MAY']+df_diff['JUN']\n",
    "df_diff[\"Q3\"] = df_diff['JUL']+df_diff['AUG']+df_diff['SEP']\n",
    "df_diff[\"Q4\"] = df_diff['OCT']+df_diff['NOV']+df_diff['DEC']\n",
    "for i in df_81_10.columns:\n",
    "    del df_diff[i]\n",
    "df_diff"
   ]
  },
  {
   "cell_type": "code",
   "execution_count": 12,
   "id": "caa3edd5",
   "metadata": {},
   "outputs": [
    {
     "data": {
      "text/plain": [
       "False"
      ]
     },
     "execution_count": 12,
     "metadata": {},
     "output_type": "execute_result"
    }
   ],
   "source": [
    "AirTempCheck = ( (df_diff.loc['NM_T (°C)'].sum()) / 4 ) < 1\n",
    "AirTempCheck "
   ]
  },
  {
   "cell_type": "code",
   "execution_count": 13,
   "id": "8e5f7b13",
   "metadata": {},
   "outputs": [
    {
     "data": {
      "text/plain": [
       "True"
      ]
     },
     "execution_count": 13,
     "metadata": {},
     "output_type": "execute_result"
    }
   ],
   "source": [
    "df_diff = df_91_20 - df_81_10\n",
    "FogDescCheck = ( df_diff['DEC']['NM_OFOG (days)'] + df_diff['JAN']['NM_OFOG (days)'] + df_diff['FEB']['NM_OFOG (days)'] + df_diff['MAR']['NM_OFOG (days)'] ) < 0\n",
    "FogDescCheck"
   ]
  },
  {
   "cell_type": "code",
   "execution_count": 30,
   "id": "f00cc7a0",
   "metadata": {},
   "outputs": [
    {
     "data": {
      "text/plain": [
       "False"
      ]
     },
     "execution_count": 30,
     "metadata": {},
     "output_type": "execute_result"
    }
   ],
   "source": [
    "first=df_91_20.iloc[3].diff()\n",
    "second=df_81_10.iloc[3].diff()\n",
    "first_pattern = first>0\n",
    "second_pattern = second>0\n",
    "compare=first_pattern.equals(second_pattern)\n",
    "compare"
   ]
  },
  {
   "cell_type": "code",
   "execution_count": 49,
   "id": "0edb26f8",
   "metadata": {},
   "outputs": [
    {
     "name": "stdout",
     "output_type": "stream",
     "text": [
      "                        JAN  FEB   MAR   APR   MAY   JUN  JUL  AUG   SEP  OCT  \\\n",
      "Parameters                                                                      \n",
      "NM_ODRR01 (days)        0.3  1.1  -1.3  -1.0  -0.4  -0.6  0.7  0.1  -0.8  0.2   \n",
      "NM_OGLAZE (days)       -0.5 -0.1   0.1   0.0   0.0   0.0  0.0  0.0   0.0  0.0   \n",
      "NM_QFF (hPa)            0.0  0.0   0.0   0.0   0.0   0.0  0.0  0.0   0.0  0.5   \n",
      "NM_U (%)                1.0  2.0  -1.0  -1.0  -1.0  -1.0  0.0 -1.0  -1.0  1.0   \n",
      "NM_ODXT30 (days)        0.0  0.0   0.0   0.0   0.1   0.8  1.0  1.3  -0.1  0.0   \n",
      "NM_OSNOW (days)        -1.1 -0.4  -1.1  -0.6   0.0   0.0  0.0  0.0   0.0  0.1   \n",
      "NM_ODXT0 (days)        -1.0 -1.0   0.1   0.0   0.0   0.0  0.0  0.0   0.0  0.0   \n",
      "NM_OCASETHSTORM (days)  0.0 -0.2  -0.4  -0.1  -0.5  -1.1 -0.2 -0.3  -0.8  0.0   \n",
      "NM_OGROUNDSNOW (days)  -1.3 -0.7  -0.9  -0.4   0.0   0.0  0.0  0.0   0.0  0.0   \n",
      "NM_ODXT25 (days)        0.0  0.0   0.0   0.2   0.6   1.4  1.3  1.1   0.8  0.1   \n",
      "NM_NT (°C)              0.6  0.6   0.4   0.7   0.3   0.7  0.5  0.6   0.3  0.6   \n",
      "NM_T (°C)               0.6  0.6   0.5   0.9   0.5   0.8  0.5  0.7   0.4  0.9   \n",
      "NM_XT (°C)              0.7  0.5   0.7   1.1   0.6   1.0  0.6  0.7   0.6  0.5   \n",
      "NM_ODNT0 (days)        -1.4 -1.7  -1.6  -0.6  -0.1   0.0  0.0  0.0   0.0  0.2   \n",
      "NM_OFOG (days)         -1.3 -0.3  -0.5  -0.8  -1.4  -0.8 -0.4 -0.8  -0.7 -1.3   \n",
      "NM_RR06_06 (mm)        -5.1 -3.0 -12.5  -8.8  -5.2  -6.9  1.1 -3.5  -9.7 -9.8   \n",
      "NM_INS (hours)          1.7 -4.1  12.0  15.9  12.9  14.2  7.3  6.3  13.0  1.7   \n",
      "\n",
      "                        NOV  DEC    Q1    Q2            Q3            Q4  \\\n",
      "Parameters                                                                 \n",
      "NM_ODRR01 (days)        0.5  1.2   0.1  -2.0 -1.776357e-15  1.900000e+00   \n",
      "NM_OGLAZE (days)        0.2 -0.5  -0.5   0.0  0.000000e+00 -3.000000e-01   \n",
      "NM_QFF (hPa)            0.4  0.0   0.0   0.0  0.000000e+00  9.000000e-01   \n",
      "NM_U (%)                1.0  2.0   2.0  -3.0 -2.000000e+00  4.000000e+00   \n",
      "NM_ODXT30 (days)        0.0  0.0   0.0   0.9  2.200000e+00  0.000000e+00   \n",
      "NM_OSNOW (days)         0.3 -0.5  -2.6  -0.6  0.000000e+00 -1.000000e-01   \n",
      "NM_ODXT0 (days)        -0.2 -1.3  -1.9   0.0  0.000000e+00 -1.500000e+00   \n",
      "NM_OCASETHSTORM (days)  0.1 -0.1  -0.6  -1.7 -1.300000e+00  2.775558e-17   \n",
      "NM_OGROUNDSNOW (days)  -0.5 -0.3  -2.9  -0.4  0.000000e+00 -8.000000e-01   \n",
      "NM_ODXT25 (days)        0.0  0.0   0.0   2.2  3.200000e+00  1.000000e-01   \n",
      "NM_NT (°C)              0.8  0.5   1.6   1.7  1.400000e+00  1.900000e+00   \n",
      "NM_T (°C)               1.2  0.5   1.7   2.2  1.600000e+00  2.600000e+00   \n",
      "NM_XT (°C)              0.7  0.6   1.9   2.7  1.900000e+00  1.800000e+00   \n",
      "NM_ODNT0 (days)        -1.4 -2.0  -4.7  -0.7  0.000000e+00 -3.200000e+00   \n",
      "NM_OFOG (days)         -0.2 -0.8  -2.1  -3.0 -1.900000e+00 -2.300000e+00   \n",
      "NM_RR06_06 (mm)        -4.3  2.8 -20.6 -20.9 -1.210000e+01 -1.130000e+01   \n",
      "NM_INS (hours)         -2.9  0.9   9.6  43.0  2.660000e+01 -3.000000e-01   \n",
      "\n",
      "                        Q1+Q2+Q3+Q4  \n",
      "Parameters                           \n",
      "NM_ODRR01 (days)                0.0  \n",
      "NM_OGLAZE (days)                0.8  \n",
      "NM_QFF (hPa)                    0.9  \n",
      "NM_U (%)                        1.0  \n",
      "NM_ODXT30 (days)                3.1  \n",
      "NM_OSNOW (days)                 3.3  \n",
      "NM_ODXT0 (days)                 3.4  \n",
      "NM_OCASETHSTORM (days)          3.6  \n",
      "NM_OGROUNDSNOW (days)           4.1  \n",
      "NM_ODXT25 (days)                5.5  \n",
      "NM_NT (°C)                      6.6  \n",
      "NM_T (°C)                       8.1  \n",
      "NM_XT (°C)                      8.3  \n",
      "NM_ODNT0 (days)                 8.6  \n",
      "NM_OFOG (days)                  9.3  \n",
      "NM_RR06_06 (mm)                64.9  \n",
      "NM_INS (hours)                 78.9  \n",
      "                        Q1+Q2+Q3+Q4\n",
      "Parameters                         \n",
      "NM_ODRR01 (days)                0.0\n",
      "NM_OGLAZE (days)                0.8\n",
      "NM_QFF (hPa)                    0.9\n",
      "NM_U (%)                        1.0\n",
      "NM_ODXT30 (days)                3.1\n",
      "NM_OSNOW (days)                 3.3\n",
      "NM_ODXT0 (days)                 3.4\n",
      "NM_OCASETHSTORM (days)          3.6\n",
      "NM_OGROUNDSNOW (days)           4.1\n",
      "NM_ODXT25 (days)                5.5\n",
      "NM_NT (°C)                      6.6\n",
      "NM_T (°C)                       8.1\n",
      "NM_XT (°C)                      8.3\n",
      "NM_ODNT0 (days)                 8.6\n",
      "NM_OFOG (days)                  9.3\n",
      "NM_RR06_06 (mm)                64.9\n",
      "NM_INS (hours)                 78.9\n",
      "\n",
      "The three most changed parameters:\n",
      "\n",
      "                 Q1+Q2+Q3+Q4\n",
      "Parameters                  \n",
      "NM_OFOG (days)           9.3\n",
      "NM_RR06_06 (mm)         64.9\n",
      "NM_INS (hours)          78.9\n",
      "\n",
      "The three least changed parameters:\n",
      "\n",
      "                  Q1+Q2+Q3+Q4\n",
      "Parameters                   \n",
      "NM_ODRR01 (days)          0.0\n",
      "NM_OGLAZE (days)          0.8\n",
      "NM_QFF (hPa)              0.9\n"
     ]
    }
   ],
   "source": [
    "df_diff = df_91_20 - df_81_10\n",
    "df_diff[\"Q1\"] = df_diff['JAN']+df_diff['FEB']+df_diff['MAR']\n",
    "df_diff[\"Q2\"] = df_diff['APR']+df_diff['MAY']+df_diff['JUN']\n",
    "df_diff[\"Q3\"] = df_diff['JUL']+df_diff['AUG']+df_diff['SEP']\n",
    "df_diff[\"Q4\"] = df_diff['OCT']+df_diff['NOV']+df_diff['DEC']\n",
    "df_diff[\"Q1+Q2+Q3+Q4\"] = abs(df_diff[\"Q1\"]+df_diff[\"Q2\"]+df_diff[\"Q3\"]+df_diff[\"Q4\"])  \n",
    "#Calculated the sum of the differences according to the quarterly so we can easily calculate which variable changed the most and which the least\n",
    "Sort1=df_diff.sort_values(by=[\"Q1+Q2+Q3+Q4\"])\n",
    "print(Sort1)\n",
    "\n",
    "new_Data=df_diff[\"Q1+Q2+Q3+Q4\"] \n",
    "\n",
    "new_df=pd.DataFrame(new_Data)\n",
    "\n",
    "new_df.head(10)\n",
    "\n",
    "Sortedf=new_df.sort_values(by=[\"Q1+Q2+Q3+Q4\"])\n",
    "\n",
    "print(Sortedf)\n",
    "print(\"\\nThe three most changed parameters:\\n\")\n",
    "print(Sortedf.iloc[-3:]) \n",
    "print(\"\\nThe three least changed parameters:\\n\")\n",
    "print(Sortedf.iloc[0:3])"
   ]
  },
  {
   "cell_type": "code",
   "execution_count": 52,
   "id": "5df85c10",
   "metadata": {},
   "outputs": [
    {
     "name": "stdout",
     "output_type": "stream",
     "text": [
      "\n",
      " Correlations of: \n",
      "\n"
     ]
    },
    {
     "data": {
      "text/html": [
       "<div>\n",
       "<style scoped>\n",
       "    .dataframe tbody tr th:only-of-type {\n",
       "        vertical-align: middle;\n",
       "    }\n",
       "\n",
       "    .dataframe tbody tr th {\n",
       "        vertical-align: top;\n",
       "    }\n",
       "\n",
       "    .dataframe thead th {\n",
       "        text-align: right;\n",
       "    }\n",
       "</style>\n",
       "<table border=\"1\" class=\"dataframe\">\n",
       "  <thead>\n",
       "    <tr style=\"text-align: right;\">\n",
       "      <th></th>\n",
       "      <th>Q1+Q2+Q3+Q4</th>\n",
       "    </tr>\n",
       "  </thead>\n",
       "  <tbody>\n",
       "    <tr>\n",
       "      <th>Q1+Q2+Q3+Q4</th>\n",
       "      <td>1.0</td>\n",
       "    </tr>\n",
       "  </tbody>\n",
       "</table>\n",
       "</div>"
      ],
      "text/plain": [
       "             Q1+Q2+Q3+Q4\n",
       "Q1+Q2+Q3+Q4          1.0"
      ]
     },
     "execution_count": 52,
     "metadata": {},
     "output_type": "execute_result"
    }
   ],
   "source": [
    "print(\"\\n Correlations of: \\n\")\n",
    "Sortedf.corr(method ='pearson')\n"
   ]
  },
  {
   "cell_type": "code",
   "execution_count": 18,
   "id": "5dd027d8",
   "metadata": {},
   "outputs": [
    {
     "data": {
      "text/html": [
       "<div>\n",
       "<style scoped>\n",
       "    .dataframe tbody tr th:only-of-type {\n",
       "        vertical-align: middle;\n",
       "    }\n",
       "\n",
       "    .dataframe tbody tr th {\n",
       "        vertical-align: top;\n",
       "    }\n",
       "\n",
       "    .dataframe thead th {\n",
       "        text-align: right;\n",
       "    }\n",
       "</style>\n",
       "<table border=\"1\" class=\"dataframe\">\n",
       "  <thead>\n",
       "    <tr style=\"text-align: right;\">\n",
       "      <th></th>\n",
       "      <th>NM_T (°C)</th>\n",
       "      <th>NM_ODRR01 (days)</th>\n",
       "      <th>NM_T (°C)</th>\n",
       "      <th>NM_ODRR01 (days)</th>\n",
       "    </tr>\n",
       "  </thead>\n",
       "  <tbody>\n",
       "    <tr>\n",
       "      <th>JAN</th>\n",
       "      <td>1.4</td>\n",
       "      <td>17.3</td>\n",
       "      <td>0.8</td>\n",
       "      <td>17.0</td>\n",
       "    </tr>\n",
       "    <tr>\n",
       "      <th>FEB</th>\n",
       "      <td>2.2</td>\n",
       "      <td>15.4</td>\n",
       "      <td>1.6</td>\n",
       "      <td>14.3</td>\n",
       "    </tr>\n",
       "    <tr>\n",
       "      <th>MAR</th>\n",
       "      <td>5.7</td>\n",
       "      <td>14.8</td>\n",
       "      <td>5.2</td>\n",
       "      <td>16.1</td>\n",
       "    </tr>\n",
       "    <tr>\n",
       "      <th>APR</th>\n",
       "      <td>9.6</td>\n",
       "      <td>12.7</td>\n",
       "      <td>8.7</td>\n",
       "      <td>13.7</td>\n",
       "    </tr>\n",
       "    <tr>\n",
       "      <th>MAY</th>\n",
       "      <td>13.5</td>\n",
       "      <td>14.0</td>\n",
       "      <td>13.0</td>\n",
       "      <td>14.4</td>\n",
       "    </tr>\n",
       "    <tr>\n",
       "      <th>JUN</th>\n",
       "      <td>16.7</td>\n",
       "      <td>13.3</td>\n",
       "      <td>15.9</td>\n",
       "      <td>13.9</td>\n",
       "    </tr>\n",
       "    <tr>\n",
       "      <th>JUL</th>\n",
       "      <td>18.7</td>\n",
       "      <td>13.7</td>\n",
       "      <td>18.2</td>\n",
       "      <td>13.0</td>\n",
       "    </tr>\n",
       "    <tr>\n",
       "      <th>AUG</th>\n",
       "      <td>18.4</td>\n",
       "      <td>13.2</td>\n",
       "      <td>17.7</td>\n",
       "      <td>13.1</td>\n",
       "    </tr>\n",
       "    <tr>\n",
       "      <th>SEP</th>\n",
       "      <td>14.3</td>\n",
       "      <td>12.2</td>\n",
       "      <td>13.9</td>\n",
       "      <td>13.0</td>\n",
       "    </tr>\n",
       "    <tr>\n",
       "      <th>OCT</th>\n",
       "      <td>9.9</td>\n",
       "      <td>15.2</td>\n",
       "      <td>9.0</td>\n",
       "      <td>15.0</td>\n",
       "    </tr>\n",
       "    <tr>\n",
       "      <th>NOV</th>\n",
       "      <td>5.2</td>\n",
       "      <td>17.5</td>\n",
       "      <td>4.0</td>\n",
       "      <td>17.0</td>\n",
       "    </tr>\n",
       "    <tr>\n",
       "      <th>DEC</th>\n",
       "      <td>2.3</td>\n",
       "      <td>18.1</td>\n",
       "      <td>1.8</td>\n",
       "      <td>16.9</td>\n",
       "    </tr>\n",
       "  </tbody>\n",
       "</table>\n",
       "</div>"
      ],
      "text/plain": [
       "     NM_T (°C)  NM_ODRR01 (days)  NM_T (°C)  NM_ODRR01 (days)\n",
       "JAN        1.4              17.3        0.8              17.0\n",
       "FEB        2.2              15.4        1.6              14.3\n",
       "MAR        5.7              14.8        5.2              16.1\n",
       "APR        9.6              12.7        8.7              13.7\n",
       "MAY       13.5              14.0       13.0              14.4\n",
       "JUN       16.7              13.3       15.9              13.9\n",
       "JUL       18.7              13.7       18.2              13.0\n",
       "AUG       18.4              13.2       17.7              13.1\n",
       "SEP       14.3              12.2       13.9              13.0\n",
       "OCT        9.9              15.2        9.0              15.0\n",
       "NOV        5.2              17.5        4.0              17.0\n",
       "DEC        2.3              18.1        1.8              16.9"
      ]
     },
     "execution_count": 18,
     "metadata": {},
     "output_type": "execute_result"
    }
   ],
   "source": [
    "df_temp_81_20 = pd.concat( [ pd.concat([df_91_20.loc['NM_T (°C)'], df_91_20.loc['NM_ODRR01 (days)']], axis=1), pd.concat([df_81_10.loc['NM_T (°C)'], df_81_10.loc['NM_ODRR01 (days)']], axis=1) ], axis=1)\n",
    "df_temp_81_20"
   ]
  },
  {
   "cell_type": "code",
   "execution_count": 19,
   "id": "01a3d1e8",
   "metadata": {},
   "outputs": [
    {
     "data": {
      "text/plain": [
       "<matplotlib.legend.Legend at 0x153e161dee0>"
      ]
     },
     "execution_count": 19,
     "metadata": {},
     "output_type": "execute_result"
    },
    {
     "data": {
      "image/png": "[encoded data removed]",
      "text/plain": [
       "<Figure size 432x288 with 1 Axes>"
      ]
     },
     "metadata": {
      "needs_background": "light"
     },
     "output_type": "display_data"
    }
   ],
   "source": [
    "ax = df_81_10.loc['NM_T (°C)'].plot()\n",
    "ax=df_91_20.loc['NM_T (°C)'].plot()\n",
    "ax.legend([\"df_81_10['NM_T (°C)']\", \"df_91_20['NM_T (°C)']\"])"
   ]
  }
 ],
 "metadata": {
  "kernelspec": {
   "display_name": "Python 3",
   "language": "python",
   "name": "python3"
  },
  "language_info": {
   "codemirror_mode": {
    "name": "ipython",
    "version": 3
   },
   "file_extension": ".py",
   "mimetype": "text/x-python",
   "name": "python",
   "nbconvert_exporter": "python",
   "pygments_lexer": "ipython3",
   "version": "3.8.8"
  }
 },
 "nbformat": 4,
 "nbformat_minor": 5
}
